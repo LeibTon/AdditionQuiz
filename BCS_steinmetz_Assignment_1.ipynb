{
  "nbformat": 4,
  "nbformat_minor": 0,
  "metadata": {
    "colab": {
      "name": "BCS steinmetz Assignment 1.ipynb",
      "provenance": [],
      "collapsed_sections": [],
      "toc_visible": true,
      "include_colab_link": true
    },
    "kernelspec": {
      "name": "python3",
      "display_name": "Python 3"
    },
    "language_info": {
      "name": "python"
    }
  },
  "cells": [
    {
      "cell_type": "markdown",
      "metadata": {
        "id": "view-in-github",
        "colab_type": "text"
      },
      "source": [
        "<a href=\"https://colab.research.google.com/github/prakashaditya369/AdditionQuiz/blob/master/BCS_steinmetz_Assignment_1.ipynb\" target=\"_parent\"><img src=\"https://colab.research.google.com/assets/colab-badge.svg\" alt=\"Open In Colab\"/></a>"
      ]
    },
    {
      "cell_type": "markdown",
      "metadata": {
        "id": "SwiHb_lImI_t"
      },
      "source": [
        "# Steinmetz Project Assignment 1\n",
        "## LIF Neuron\n",
        "\n",
        "Click on **Copy to Drive** to make a copy and modify the code in that.  \n",
        "**Acknowledgement**: Based on Neuromatch Tutorials.  \n",
        "Happy Learning. :)"
      ]
    },
    {
      "cell_type": "markdown",
      "metadata": {
        "id": "ly_7awGcnShR"
      },
      "source": [
        "---\n",
        "## Assignment Objective\n",
        "The objective of the assignment is to make you familiar with Python while implementing a **Leaky Integrate and Fire** neuron."
      ]
    },
    {
      "cell_type": "markdown",
      "metadata": {
        "id": "m84x1aitns7y"
      },
      "source": [
        "---\n",
        "## Imports and helper functions\n",
        "Please execute the cell(s) below to initialize the notebook environment."
      ]
    },
    {
      "cell_type": "code",
      "metadata": {
        "id": "oyK0ZeYxmBoq",
        "cellView": "form"
      },
      "source": [
        "# @title Import Libraries and Figure Settings\n",
        "import numpy as np\n",
        "import matplotlib.pyplot as plt\n",
        "\n",
        "%config InlineBackend.figure_format = 'retina'\n",
        "plt.style.use(\"https://raw.githubusercontent.com/NeuromatchAcademy/course-content/master/nma.mplstyle\")"
      ],
      "execution_count": null,
      "outputs": []
    },
    {
      "cell_type": "markdown",
      "metadata": {
        "id": "sur50dFEqdq_"
      },
      "source": [
        "---\n",
        "## Neuron model\n",
        "A *membrane equation* and a *reset condition* define our *leaky-integrate-and-fire (LIF)* neuron:\n",
        "\n",
        "\n",
        "\\begin{align*}\n",
        "\\\\\n",
        "&\\tau_m\\,\\frac{d}{dt}\\,V(t) = E_{L} - V(t) + R\\,I(t) &\\text{if }\\quad V(t) \\leq V_{th}\\\\\n",
        "\\\\\n",
        "&V(t) = V_{reset} &\\text{otherwise}\\\\\n",
        "\\\\\n",
        "\\end{align*}\n",
        "\n",
        "where $V(t)$ is the membrane potential, $\\tau_m$ is the membrane time constant, $E_{L}$ is the leak potential, $R$ is the membrane resistance, $I(t)$ is the synaptic input current, $V_{th}$ is the firing threshold, and $V_{reset}$ is the reset voltage. We can also write $V_m$ for membrane potential - very convenient for plot labels.\n",
        "\n",
        "The membrane equation is an *ordinary differential equation (ODE)* that describes the time evolution of membrane potential $V(t)$ in response to synaptic input and leaking of change across the cell membrane.\n",
        "\n",
        "**Note that, in this assignment, we will be working with a single neuron.**"
      ]
    },
    {
      "cell_type": "markdown",
      "metadata": {
        "id": "2LhHA_hfql8G"
      },
      "source": [
        "### Exercise 1\n",
        "We start by defining and initializing the main simulation variables.\n",
        "\n",
        "**Suggestions**\n",
        "* Modify the code below to print the simulation parameters"
      ]
    },
    {
      "cell_type": "code",
      "metadata": {
        "id": "xRopiQqRoEz0"
      },
      "source": [
        "# t_max = 150e-3   # second\n",
        "# dt = 1e-3        # second\n",
        "# tau = 20e-3      # second\n",
        "# el = -60e-3      # milivolt\n",
        "# vr = -70e-3      # milivolt\n",
        "# vth = -50e-3     # milivolt\n",
        "# r = 100e6        # ohm\n",
        "# i_mean = 25e-11  # ampere\n",
        "\n",
        "# print(t_max, dt, tau, el, vr, vth, r, i_mean)"
      ],
      "execution_count": null,
      "outputs": []
    },
    {
      "cell_type": "markdown",
      "metadata": {
        "id": "yF8HXc1VqvhY"
      },
      "source": [
        "**SAMPLE OUTPUT**\n",
        "\n",
        "```\n",
        "0.15 0.001 0.02 -0.06 -0.07 -0.05 100000000.0 2.5e-10\n",
        "```"
      ]
    },
    {
      "cell_type": "markdown",
      "metadata": {
        "id": "DEyIWBjbrCLm"
      },
      "source": [
        "### Exercise 2\n",
        "![synaptic input](https://github.com/mpbrigham/colaboratory-figures/raw/master/nma/python-for-nma/synaptic_input.png)\n",
        "\n",
        "We start with a sinusoidal model to simulate the synaptic input $I(t)$ given by:\n",
        "\\begin{align*}\n",
        "\\\\\n",
        "I(t)=I_{mean}\\left(1+\\sin\\left(\\frac{2 \\pi}{0.01}\\,t\\right)\\right)\\\\\n",
        "\\\\\n",
        "\\end{align*}\n",
        "\n",
        "Compute the values of synaptic input $I(t)$ between $t=0$ and $t=0.009$ with step $\\Delta t=0.001$.\n",
        "\n",
        "**Suggestions**\n",
        "* Loop variable `step` for 25 steps (`step` takes values from `0` to `24`)\n",
        "* At each time step\n",
        "    * Compute the value of `t` with variables `step` and `dt`\n",
        "    * Compute the value of `i` using the formula given above.\n",
        "    * Use `np.pi` and `np.sin` for evaluating $\\pi$ and $\\sin(\\cdot)$, respectively.\n",
        "    * `i` vs `t` graph is plotted."
      ]
    },
    {
      "cell_type": "code",
      "metadata": {
        "id": "C43Qz5sjrJLw"
      },
      "source": [
        "# initialize t\n",
        "t = 0\n",
        "\n",
        "####### Plotting Details ########\n",
        "plt.figure()\n",
        "plt.title('Sinusoidal I(t)')\n",
        "plt.xlabel('time (s)')\n",
        "plt.ylabel('$I$ (A)');\n",
        "##################################\n",
        "\n",
        "# loop for 10 steps, variable 'step' takes values from 0 to 9\n",
        "for step in range(25):\n",
        "  # t = ...            # Current time would be step * dt.\n",
        "  # i = ...            # Find i using the formula\n",
        "  plt.plot(t, i,'ko')\n",
        "plt.show()"
      ],
      "execution_count": null,
      "outputs": []
    },
    {
      "cell_type": "markdown",
      "metadata": {
        "id": "cUEy_w4lrKza"
      },
      "source": [
        "**SAMPLE OUTPUT**\n",
        "\n",
        "<img alt='Solution hint' align='left' width=559 height=416 src=https://raw.githubusercontent.com/NeuromatchAcademy/course-content/master/tutorials/W0D1_PythonWorkshop1/static/W0D1_Tutorial1_Solution_23446a7e_0.png>"
      ]
    },
    {
      "cell_type": "markdown",
      "metadata": {
        "id": "JhOT1k-lrNRt"
      },
      "source": [
        "### Exercise 3\n",
        "Print formatting is handy for displaying simulation parameters in a clean and organized form. Python 3.6 introduced the new string formatting [f-strings](https://www.python.org/dev/peps/pep-0498). Since we are dealing with type `float` variables, we use `f'{x:.3f}'` for formatting `x` to three decimal points, and `f'{x:.4e}'` for four decimal points but in exponential notation.\n",
        "```\n",
        "x = 3.14159265e-1\n",
        "print(f'{x:.3f}')\n",
        "--> 0.314\n",
        "\n",
        "print(f'{x:.4e}')\n",
        "--> 3.1416e-01\n",
        "```\n",
        "\n",
        "Repeat the loop from the previous exercise and print the `t` values with three decimal points, and synaptic input $I(t)$ with four decimal points in exponential notation.\n",
        "\n",
        "For additional formatting options with f-strings see [here](http://zetcode.com/python/fstring/).\n",
        "\n",
        "**Suggestions**\n",
        "* Print `t` and `i` with help of *f-strings* formatting"
      ]
    },
    {
      "cell_type": "code",
      "metadata": {
        "id": "Kqveu3_prQm2"
      },
      "source": [
        "# initialize step_end\n",
        "step_end = 10\n",
        "\n",
        "# loop for step_end steps\n",
        "for step in range(step_end):\n",
        "  t = ...  # Same as done above\n",
        "  i = ...  # Same as done above\n",
        "  print(...)"
      ],
      "execution_count": null,
      "outputs": []
    },
    {
      "cell_type": "markdown",
      "metadata": {
        "id": "41AWN7jKrXLk"
      },
      "source": [
        "**SAMPLE OUTPUT**\n",
        "\n",
        "```\n",
        "0.000 2.5000e-10\n",
        "0.001 3.9695e-10\n",
        "0.002 4.8776e-10\n",
        "0.003 4.8776e-10\n",
        "0.004 3.9695e-10\n",
        "0.005 2.5000e-10\n",
        "0.006 1.0305e-10\n",
        "0.007 1.2236e-11\n",
        "0.008 1.2236e-11\n",
        "0.009 1.0305e-10\n",
        "```"
      ]
    },
    {
      "cell_type": "markdown",
      "metadata": {
        "id": "J1VutjhMrmWI"
      },
      "source": [
        "## ODE integration without spikes\n",
        "In the next exercises, we now simulate the evolution of the membrane equation in discrete time steps, with a sufficiently small $\\Delta t$.\n",
        "\n",
        "We start by writing the time derivative $d/dt\\,V(t)$ in the membrane equation without taking the limit $\\Delta t \\to 0$:\n",
        "\n",
        "\\begin{align*}\n",
        "\\\\\n",
        "\\tau_m\\,\\frac{V\\left(t+\\Delta t\\right)-V\\left(t\\right)}{\\Delta t} &= E_{L} - V(t) + R\\,I(t) \\qquad\\qquad (1)\\\\\n",
        "\\\\\n",
        "\\end{align*}\n",
        "\n",
        "The value of membrane potential $V\\left(t+\\Delta t\\right)$ can be expressed in terms of its previous value $V(t)$ by simple algebraic manipulation. For *small enough* values of $\\Delta t$, this provides a good approximation of the continuous-time integration.\n",
        "\n",
        "This operation is an integration since we obtain a sequence $\\{V(t), V(t+\\Delta t), V(t+2\\Delta t),...\\}$ starting from the ODE. Notice how the ODE describes the evolution of $\\frac{d}{dt}\\,V(t)$, the derivative of $V(t)$, but not directly the evolution of $V(t)$. For the evolution of $V(t)$ we need to integrate the ODE, and in this tutorial, we will do a discrete-time integration using the Euler method. See [Numerical methods for ordinary differential equations](https://en.wikipedia.org/wiki/Numerical_methods_for_ordinary_differential_equations) for additional details."
      ]
    },
    {
      "cell_type": "markdown",
      "metadata": {
        "id": "5Po1iQsvrnM4"
      },
      "source": [
        "### Exercise 4\n",
        "Compute the values of $V(t)$ between $t=0$ and $t=0.01$ with step $\\Delta t=0.001$ and $V(0)=E_L$.\n",
        "\n",
        "We will write a `for` loop from scratch in this exercise. The following three formulations are all equivalent and loop for three steps:\n",
        "```\n",
        "for step in [0, 1, 2]:\n",
        "  print(step)\n",
        "\n",
        "for step in range(3):\n",
        "  print(step)\n",
        "\n",
        "start = 0\n",
        "end = 3\n",
        "stepsize = 1\n",
        "\n",
        "for step in range(start, end, stepsize):\n",
        "  print(step)\n",
        "```\n",
        "\n",
        "\n",
        "**Suggestions**\n",
        "* Reorganize the Eq. (1) to isolate $V\\left(t+\\Delta t\\right)$ on the left side, and express it as function of $V(t)$ and the other terms\n",
        "\\begin{align*}\n",
        "\\\\\n",
        "V\\left(t+\\Delta t\\right) &= {V\\left(t\\right)} + \\frac{{\\Delta t}}{\\tau_m} *(E_{L} - V(t) + R\\,I(t))  \\qquad\\qquad (2)\\\\\n",
        "\\\\\n",
        "\\end{align*}\n",
        "* Compute the required number of steps with`int(t_max/dt)`\n",
        "* Initialize the membrane potential variable `v` to leak potential `el`\n",
        "* At each time step\n",
        "    * Compute the current value of `t`, `i`\n",
        "    * Plot the value of `v` vs `t`.\n",
        "    * Update the value of `v`"
      ]
    },
    {
      "cell_type": "code",
      "metadata": {
        "id": "abANhxkJs-uw"
      },
      "source": [
        "# initialize step_end and v\n",
        "step_end = ...   #Compute the number of steps\n",
        "v = el\n",
        "\n",
        "# initialize the figure\n",
        "plt.figure()\n",
        "plt.title('$V_m$ with sinusoidal I(t)')\n",
        "plt.xlabel('time (s)')\n",
        "plt.ylabel('$V_m$ (V)');\n",
        "\n",
        "# loop for step_end steps\n",
        "for step in range(step_end):\n",
        "  t = ...    # Same as above\n",
        "  i = ...    # Same as above\n",
        "  # Complete this line and uncomment\n",
        "  plt.plot(t,v,'k.')\n",
        "\n",
        "  v = ...  #Find v using the formula given above.\n",
        "\n",
        "t = t + dt\n",
        "# Complete this line and uncomment\n",
        "plt.plot(t,v,'k.')\n",
        "plt.show()"
      ],
      "execution_count": null,
      "outputs": []
    },
    {
      "cell_type": "markdown",
      "metadata": {
        "id": "0Liq4Au5tOe9"
      },
      "source": [
        "*Example output:*\n",
        "\n",
        "<img alt='Solution hint' align='left' width=560 height=416 src=https://raw.githubusercontent.com/NeuromatchAcademy/course-content/master/tutorials/W0D1_PythonWorkshop1/static/W0D1_Tutorial1_Solution_1046fd94_0.png>"
      ]
    },
    {
      "cell_type": "markdown",
      "metadata": {
        "id": "j8XdCUnRtxXX"
      },
      "source": [
        "---\n",
        "## Random synaptic input\n",
        "From the perspective of neurons, synaptic input is random (or stochastic). We'll improve the synaptic input model by introducing random input current with statistical properties similar to the previous exercise:\n",
        "\n",
        "\\begin{align*}\n",
        "\\\\\n",
        "I(t)=I_{mean}\\left(1+0.1\\sqrt{\\frac{t_{max}}{\\Delta t}}\\,\\xi(t)\\right)\\qquad\\text{with }\\xi(t)\\sim U(-1,1)\\\\\n",
        "\\\\\n",
        "\\end{align*}\n",
        "\n",
        "where $U(-1,1)$ is the [uniform distribution](https://en.wikipedia.org/wiki/Uniform_distribution_(continuous)) with support $x\\in[-1,1]$.\n",
        "\n",
        "Random synaptic input $I(t)$ results in random time course for $V(t)$."
      ]
    },
    {
      "cell_type": "markdown",
      "metadata": {
        "id": "EUGJV7wyuC5C"
      },
      "source": [
        "### Exercise 5\n",
        "Plot the values of $V(t)$ between $t=0$ and $t=t_{max}-\\Delta t$ with random input $I(t)$.\n",
        "\n",
        "Initialize the (pseudo) random number generator (RNG) to a fixed value to obtain the same random input each time.\n",
        "\n",
        "The function `np.random.seed()` initializes the RNG, and `np.random.random()` generates samples from the uniform distribution between `0` and `1`.\n",
        "\n",
        "**Suggestions**\n",
        "* Use `np.random.seed()` to initialize the RNG to `0`\n",
        "* Use `np.random.random()` to generate random input in range `[0,1]` at each timestep\n",
        "* Multiply random input by an appropriate factor to expand the range to `[-1,1]`\n",
        "  *  To generate random number between `[L, U]`, use `(U-L)*random_number + L`, where random_number is between `[0,1]`.\n",
        "* Verify that $V(t)$ has a random time course by changing the initial RNG value\n",
        "* Alternatively, comment RNG initialization by typing `CTRL` + `\\` in the relevant line"
      ]
    },
    {
      "cell_type": "code",
      "metadata": {
        "id": "letjKQIHtBdn"
      },
      "source": [
        "# set random number generator\n",
        "np.random.seed(2020)\n",
        "\n",
        "# initialize step_end and v\n",
        "step_end = int(t_max / dt)\n",
        "v = el\n",
        "\n",
        "# initialize the figure\n",
        "plt.figure()\n",
        "plt.title('$V_m$ with random I(t)')\n",
        "plt.xlabel('time (s)')\n",
        "plt.ylabel('$V_m$ (V)')\n",
        "\n",
        "# loop for step_end steps\n",
        "for step in range(step_end):\n",
        "  t = step * dt\n",
        "  # Complete this line and uncomment\n",
        "  plt.plot(t, v, 'k.')\n",
        "\n",
        "  i = ... # Find i using above formula\n",
        "  v = ... # As calculated in previous exercise.\n",
        "\n",
        "plt.show()"
      ],
      "execution_count": null,
      "outputs": []
    },
    {
      "cell_type": "markdown",
      "metadata": {
        "id": "Ekl2cDMNZz9m"
      },
      "source": [
        "*Example output:*\n",
        "\n",
        "<img alt='Solution hint' align='left' width=560 height=416 src='https://drive.google.com/uc?id=1hnB78v251QOx_65BX79XSJbSZ61tLlgu'>"
      ]
    },
    {
      "cell_type": "markdown",
      "metadata": {
        "id": "jAHW3kKY1njY"
      },
      "source": [
        "### Exercise 6\n",
        "### Using List\n",
        "After each iteration append the value of `t`, `i`, `v` in lists: `time_range`, `i_n`, `v_n` respectively.\n",
        "\n",
        "**Suggestions**\n",
        "* Find `i` and `v` same as above.\n",
        "* Use `list_name.append(element)` to append elements to list."
      ]
    },
    {
      "cell_type": "code",
      "metadata": {
        "id": "MILEMAjx2FMj"
      },
      "source": [
        "# set random number generator\n",
        "np.random.seed(2025)\n",
        "\n",
        "# initialize step_end and v\n",
        "step_end = int(t_max / dt)\n",
        "v = el\n",
        "time_range = []\n",
        "i_n = []\n",
        "v_n = []\n",
        "\n",
        "# loop for step_end steps\n",
        "for step in range(step_end):\n",
        "  t = step * dt\n",
        "\n",
        "  i = ... # Same as above\n",
        "  v = ... # Same as above\n",
        "  ... # Append t\n",
        "  ... # Append i\n",
        "  ... # Append v\n",
        "\n",
        "\n",
        "fig_w, fig_h = plt.rcParams['figure.figsize']\n",
        "plt.figure(figsize=(fig_w, 2 * fig_h))\n",
        "\n",
        "plt.subplot(2,1,1)\n",
        "plt.plot(time_range, i_n)\n",
        "plt.title('Random $I(t)$')\n",
        "plt.xlabel('time (s)')\n",
        "plt.ylabel('$I$ (A)')\n",
        "\n",
        "plt.subplot(2,1,2)\n",
        "plt.plot(time_range, v_n)\n",
        "plt.title('$V_m$ with random I(t)')\n",
        "plt.xlabel('time (s)')\n",
        "plt.ylabel('$V_m$ (V)')\n",
        "\n",
        "plt.show()"
      ],
      "execution_count": null,
      "outputs": []
    },
    {
      "cell_type": "markdown",
      "metadata": {
        "id": "FoEyozgHeadp"
      },
      "source": [
        "*Example output:*\n",
        "\n",
        "<img alt='Solution hint' align='left' width=560 height=416 src='https://drive.google.com/uc?id=1IFQHK5uAW_nLQfqxHMbmE5hy2PXWJVkX'>"
      ]
    },
    {
      "cell_type": "markdown",
      "metadata": {
        "id": "EwnpAlHnvKTv"
      },
      "source": [
        "---\n",
        "## Introduce spikes\n",
        "A spike takes place whenever $V(t)$ crosses $V_{th}$. In that case, a spike is recorded and $V(t)$ resets to $V_{reset}$ value. This is summarized in the *reset condition*:\n",
        "$$V(t) = V_{reset}\\quad \\text{ if } V(t)\\geq V_{th}$$\n",
        "\n",
        "For more information about spikes or action potentials see [here](https://en.wikipedia.org/wiki/Action_potential) and [here](https://www.khanacademy.org/test-prep/mcat/organ-systems/neuron-membrane-potentials/a/neuron-action-potentials-the-creation-of-a-brain-signal).\n",
        "\n",
        "\n",
        "![spikes cartoon](https://github.com/mpbrigham/colaboratory-figures/raw/master/nma/python-for-nma/spikes_carton.png)"
      ]
    },
    {
      "cell_type": "markdown",
      "metadata": {
        "id": "Mzrhr2126Ma6"
      },
      "source": [
        "### Exercise 7\n",
        "Implement spikes for a single neuron.\n",
        "\n",
        "**Suggestions**\n",
        "* At each time step loop all neurons to:\n",
        "  * Reset $V_n(t)$ to $V_{reset}$ if $V_n(t)\\geq V_{th}$\n",
        "  * Add spike time to `spikes`."
      ]
    },
    {
      "cell_type": "code",
      "metadata": {
        "id": "IuYMY7Y654FQ"
      },
      "source": [
        "# set random number generator\n",
        "np.random.seed(2020)\n",
        "\n",
        "# initialize step_end and v\n",
        "step_end = int(t_max / dt)\n",
        "v = el\n",
        "time_range = []\n",
        "v_n = []\n",
        "spikes = []\n",
        "# loop for step_end steps\n",
        "for step in range(step_end):\n",
        "  t = step * dt\n",
        "  # Complete this line and uncomment\n",
        "\n",
        "  i = i_mean * (1 + 0.1 * (t_max / dt)**(0.5) * (2 * np.random.random() - 1))\n",
        "  v = v + (dt / tau) * (el - v + r * i)\n",
        "  if (...):      # Reset Condition\n",
        "    ...     # Reset potential\n",
        "    ...     #Append current time into 'spikes'\n",
        "  time_range.append(t)\n",
        "  v_n.append(v)\n",
        "\n",
        "\n",
        "plt.subplot(2,1,1)\n",
        "plt.xlim((0, t_max))\n",
        "plt.plot(time_range, v_n)\n",
        "plt.title('$V(t)$')\n",
        "plt.xlabel('time (s)')\n",
        "plt.ylabel('$V_m$ (V)')\n",
        "\n",
        "plt.subplot(2,1,2)\n",
        "plt.xlim((0, t_max))\n",
        "plt.eventplot(spikes)\n",
        "plt.show()"
      ],
      "execution_count": null,
      "outputs": []
    },
    {
      "cell_type": "markdown",
      "metadata": {
        "id": "z2qc2MELelbv"
      },
      "source": [
        "*Example output:*\n",
        "\n",
        "<img alt='Solution hint' align='left' width=560 height=416 src='https://drive.google.com/uc?id=1IbA4BOwdlptPK_vfvr1ckbdUoUfCL1Do'>"
      ]
    },
    {
      "cell_type": "markdown",
      "metadata": {
        "id": "ENDaGT3pC5hB"
      },
      "source": [
        "---\n",
        "## Using Functions"
      ]
    },
    {
      "cell_type": "markdown",
      "metadata": {
        "id": "ACnBBBuvDCth"
      },
      "source": [
        "### Exercise 8\n",
        "Re-organize part of the code from the previous exercise with functions.\n",
        "\n",
        "**Suggestions**\n",
        "*  Complete the functions `get_i()` and `ode_and_reset_step` using ideas from above exercises.\n",
        "*   Call the function in the loop to get value of `i` and `v`.\n",
        "*   Using ideas from above plotting examples, complete the `plt.plot()` calls."
      ]
    },
    {
      "cell_type": "code",
      "metadata": {
        "id": "ylfKnE4TCJmQ"
      },
      "source": [
        "def get_i(i_mean, t_max, dt):\n",
        "  \"\"\"\n",
        "  Return a random synpatic input\n",
        "\n",
        "  Args:\n",
        "    i_mean (float)\n",
        "      mean synaptic input\n",
        "\n",
        "    t_max (float)\n",
        "      maximum time limit\n",
        "\n",
        "    dt (float)\n",
        "      time step increment\n",
        "\n",
        "  Returns:\n",
        "    i (float)\n",
        "      random synaptic input\n",
        "  \"\"\"\n",
        "  i = ... # complete the function here.\n",
        "  return i\n",
        "\n",
        "def ode_and_reset_step(v, i, dt, t, spikes, tau, el, r):\n",
        "  \"\"\"\n",
        "  Evolves membrane potential by one step of discrete time integration and resets if potential crosses threshold.\n",
        "  In case of spikes, add the time to spikes list.\n",
        "\n",
        "  Args:\n",
        "    v (numpy array of floats)\n",
        "      membrane potential at previous time step of shape (neurons)\n",
        "\n",
        "    v (numpy array of floats)\n",
        "      synaptic input at current time step of shape (neurons)\n",
        "\n",
        "    dt (float)\n",
        "      time step increment\n",
        "    \n",
        "    spikes (list of floats)\n",
        "       list of times when spikes is created.\n",
        "\n",
        "  Returns:\n",
        "    v (float)\n",
        "      membrane potential at current time step of shape (neurons)\n",
        "    spikes(list of floats)\n",
        "      list of times when spikes is created.\n",
        "  \"\"\"\n",
        "  '''One step ode, then check for threshold potential and reset if reuired. \n",
        "  Then append current time to spikes.'''\n",
        "  ...\n",
        "  return v, spikes\n",
        "\n",
        "# set random number generator\n",
        "np.random.seed(2030)\n",
        "\n",
        "# initialize step_end and v\n",
        "step_end = int(t_max / dt)\n",
        "v = el\n",
        "time_range = []\n",
        "v_n = []\n",
        "spikes = []\n",
        "# loop for step_end steps\n",
        "for step in range(1,step_end):\n",
        "  t = step * dt\n",
        "  # Complete this line and uncomment\n",
        "\n",
        "  i = ...  #Call the function\n",
        "  v, spikes = ...  #Call the function\n",
        "  time_range.append(t)\n",
        "  v_n.append(v)\n",
        "\n",
        "\n",
        "plt.subplot(2,1,1)\n",
        "plt.xlim((0, t_max))\n",
        "plt.plot(...)       # write the arguments properly\n",
        "plt.title('$V(t)$')\n",
        "plt.xlabel('time (s)')\n",
        "plt.ylabel('$V_m$ (V)')\n",
        "\n",
        "plt.subplot(2,1,2)\n",
        "plt.xlim((0, t_max))\n",
        "plt.eventplot(...)     # write the arguments properly\n",
        "plt.show()\n"
      ],
      "execution_count": null,
      "outputs": []
    },
    {
      "cell_type": "markdown",
      "metadata": {
        "id": "LxF4ClqKewT6"
      },
      "source": [
        "*Example output:*\n",
        "\n",
        "<img alt='Solution hint' align='left' width=560 height=416 src='https://drive.google.com/uc?id=1JhPltu83rI0I2cyruMiW2y9nb7R90U5-'>"
      ]
    },
    {
      "cell_type": "markdown",
      "metadata": {
        "id": "AFmlAHQBFyav"
      },
      "source": [
        "---\n",
        "## Using classes\n",
        "Using classes helps with code reuse and reliability. Well-designed classes are like black boxes in that they receive inputs and provide expected outputs. The details of how the class processes inputs and produces outputs are unimportant.\n",
        "\n",
        "See additional details here: [A Beginner's Python Tutorial/Classes](https://en.wikibooks.org/wiki/A_Beginner%27s_Python_Tutorial/Classes)\n",
        "\n",
        "*Attributes* are variables internal to the class, and *methods* are functions internal to the class."
      ]
    },
    {
      "cell_type": "markdown",
      "metadata": {
        "id": "crpxw2G4F0hO"
      },
      "source": [
        "### Exercise 9\n",
        "In this exercise we'll practice with Python classes by implementing `LIFNeurons`, a class that evolves and keeps state of multiple realizations of LIF neurons.\n",
        "\n",
        "Class Variables:\n",
        "```\n",
        "self.v             current membrane potential\n",
        "self.t             running time of the simulation\n",
        "self.steps         simulation step\n",
        "```\n",
        "Class method:\n",
        "```\n",
        "self.ode_step()    performs single step discrete time integration\n",
        "                   for provided dt\n",
        "```\n",
        "\n",
        "**Suggestions**\n",
        "* Initialise the class variables based on given examples.\n",
        "*  Complete `ode_step()` with the help of above exercises.\n",
        "*  Initiaise a class object.For a class with name `Neuron`, object is defined using `neuron = Neuron(arguments)`. \n",
        "*  Call the class method (`neuron.method_name(arguments)`) and then use class varibales (`neuron.variable_name`) for plotting the graphs."
      ]
    },
    {
      "cell_type": "code",
      "metadata": {
        "id": "1PrBawhMFmEF"
      },
      "source": [
        "# simulation class\n",
        "class LIFNeuron:\n",
        "  \"\"\"\n",
        "  Keeps track of membrane potential for a single LIF neuron,\n",
        "  and performs single step discrete time integration.\n",
        "  \"\"\"\n",
        "  def __init__(self, tau=20e-3, el=-60e-3, vr=-70e-3, vth=-50e-3, r=100e6, i_mean = 25e-11):\n",
        "\n",
        "    # neuron parameters\n",
        "    self.tau = tau        # second\n",
        "    # Initialise the parameters.\n",
        "    self.el = ...          # millivolt\n",
        "    self.vr = ...         # millivolt\n",
        "    self.vth = ...        # millivolt\n",
        "    self.r = ...            # ohm\n",
        "    self.i_mean = ...  #Ampere\n",
        "\n",
        "    # state variables\n",
        "    self.v = el\n",
        "    self.steps = 0\n",
        "    self.t = 0\n",
        "    self.i = 0\n",
        "    self.i_n = []\n",
        "    self.time_range = []\n",
        "    self.v_n = []\n",
        "    self.spikes = []\n",
        "\n",
        "  def ode_step(self, dt, t_max):\n",
        "\n",
        "    # update running time and steps\n",
        "    self.i = ... # Find value of i.\n",
        "    # one step of discrete time integration of dt\n",
        "    self.v = ... # Find value of v.\n",
        "    if self.v >= self.vth:\n",
        "      self.v = self.vr\n",
        "      self.spikes.append(self.t)\n",
        "    self.time_range.append(self.t)\n",
        "    self.i_n.append(self.i)\n",
        "    self.v_n.append(self.v)\n",
        "    self.t += dt\n",
        "    self.steps += 1\n",
        "\n",
        "# set random number generator\n",
        "np.random.seed(2040)\n",
        "\n",
        "\n",
        "neuron = ...  # initialize neuron\n",
        "step_end = int(t_max / dt)\n",
        "\n",
        "# loop time steps\n",
        "for step in range(step_end):\n",
        "  # Complete the method and uncomment\n",
        "  ...   # Call ode_step() with proper arguments\n",
        "\n",
        "#plottings\n",
        "fig_w, fig_h = plt.rcParams['figure.figsize']\n",
        "plt.figure(figsize=(fig_w, 3 * fig_h))\n",
        "\n",
        "plt.subplot(3,1,1)\n",
        "plt.xlim((0, t_max))\n",
        "plt.plot(...)               # write the arguments properly\n",
        "plt.title('Random $I(t)$')\n",
        "plt.xlabel('time (s)')\n",
        "plt.ylabel('$I$ (A)')\n",
        "\n",
        "plt.subplot(3,1,2)\n",
        "plt.plot(...)              # write the arguments properly\n",
        "plt.title('$V(t)$')\n",
        "plt.xlabel('time (s)')\n",
        "plt.ylabel('$V_m$ (V)')\n",
        "\n",
        "plt.subplot(3,1,3)\n",
        "plt.xlim((0, t_max))\n",
        "plt.eventplot(...)          # write the arguments properly\n",
        "plt.show()"
      ],
      "execution_count": null,
      "outputs": []
    },
    {
      "cell_type": "markdown",
      "metadata": {
        "id": "yE14KkxRe7tL"
      },
      "source": [
        "*Example output:*\n",
        "\n",
        "<img alt='Solution hint' align='left' width=560 height=416 src='https://drive.google.com/uc?id=1sWZxtOu5uDNGQKEpBR96Yw691CH0_Z2g'>"
      ]
    },
    {
      "cell_type": "markdown",
      "metadata": {
        "id": "JPAOzizoZJ2z"
      },
      "source": [
        "Keep Learning :)"
      ]
    }
  ]
}